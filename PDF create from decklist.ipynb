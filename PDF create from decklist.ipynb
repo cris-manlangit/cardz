{
 "cells": [
  {
   "cell_type": "code",
   "execution_count": 113,
   "id": "29ae4f3b",
   "metadata": {},
   "outputs": [],
   "source": [
    "import pandas as pd\n",
    "import urllib.request\n",
    "import json\n",
    "import pyperclip as p\n",
    "import os\n",
    "url = \"https://lorcanajson.org/files/current/en/allCards.json\"\n",
    "response = urllib.request.urlopen(url)"
   ]
  },
  {
   "cell_type": "code",
   "execution_count": 114,
   "id": "0142c9c6",
   "metadata": {},
   "outputs": [],
   "source": [
    "j = json.loads(response.read())"
   ]
  },
  {
   "cell_type": "code",
   "execution_count": 115,
   "id": "2bcedb21",
   "metadata": {},
   "outputs": [],
   "source": [
    "cards = pd.DataFrame(j[\"cards\"])\n",
    "cards['fullName'] = cards['fullName'].apply(lambda x: x.lower())"
   ]
  },
  {
   "cell_type": "code",
   "execution_count": 116,
   "id": "38248714",
   "metadata": {},
   "outputs": [],
   "source": [
    "df = pd.read_clipboard(sep=',', header = None)"
   ]
  },
  {
   "cell_type": "code",
   "execution_count": 117,
   "id": "489a72a3",
   "metadata": {},
   "outputs": [
    {
     "data": {
      "text/plain": [
       "0"
      ]
     },
     "execution_count": 117,
     "metadata": {},
     "output_type": "execute_result"
    }
   ],
   "source": [
    "df1 = df[0].str.split(r'^([^\\s]+)\\s', expand = True)\n",
    "\n",
    "a = ''\n",
    "n = 1\n",
    "os.system('mkdir temp_dir')\n",
    "for i in range(len(df)):\n",
    "    for j in range(int(df1[1][i])):\n",
    "        # a = a + df1[2][i] + '\\n'\n",
    "        a = a + str(cards[(cards[\"fullName\"] == df1[2][i].lower()) & (cards[\"number\"] < 205) & (cards[\"rarity\"] != \"Special\")][\"setNumber\"].item()).zfill(3) + '_' + str(cards[(cards[\"fullName\"] == df1[2][i].lower()) & (cards[\"number\"] < 205) & (cards[\"rarity\"] != \"Special\")][\"number\"].item()).zfill(3) + '.webp\\n'\n",
    "        os.system('cp \"{0}/color/{1}_{2}.webp\" \"./temp_dir/{3}-{1}_{2}.webp\"'.format(\n",
    "                str(cards[(cards[\"fullName\"] == df1[2][i].lower()) & (cards[\"number\"] < 205) & (cards[\"rarity\"] != \"Special\")][\"setNumber\"].item()).zfill(3)\n",
    "                , str(cards[(cards[\"fullName\"] == df1[2][i].lower()) & (cards[\"number\"] < 205) & (cards[\"rarity\"] != \"Special\")][\"setNumber\"].item()).zfill(3)\n",
    "                , str(cards[(cards[\"fullName\"] == df1[2][i].lower()) & (cards[\"number\"] < 205) & (cards[\"rarity\"] != \"Special\")][\"number\"].item()).zfill(3)\n",
    "                , n\n",
    "            )\n",
    "        )\n",
    "        if (n % 10 == 0):\n",
    "            os.system(\n",
    "                #'montage \"temp_dir/*.webp\" -mode concatenate -tile 5x2 outfile-{}.pdf'.format(\n",
    "                'montage \"temp_dir/*.webp\" -mode concatenate -tile 5x2 outfile-{}.webp'.format(\n",
    "                    n // 10\n",
    "                )\n",
    "            )\n",
    "            os.system('rm -rf temp_dir')\n",
    "            os.system('mkdir temp_dir')\n",
    "        if (i+1 == len(df) and j+1 == int(df1[1][i]) and n%10 != 0):\n",
    "            os.system(\n",
    "                #'montage \"temp_dir/*.webp\" -mode concatenate -tile 5x2 outfile-{}.pdf'.format(\n",
    "                'montage \"temp_dir/*.webp\" -mode concatenate -tile 5x2 outfile-{}.webp'.format(\n",
    "                    (n // 10) + 1\n",
    "                )\n",
    "            )\n",
    "            os.system('rm -rf temp_dir')\n",
    "            os.system('mkdir temp_dir')\n",
    "        # print(str(i) + '-' + str(j) + '-' + str(n) + '-' + str(n//10) + '---' + str(len(df)) + '-' + str(int(df1[1][i])))\n",
    "        n = n + 1\n",
    "os.system('rm -rf temp_dir')"
   ]
  }
 ],
 "metadata": {
  "kernelspec": {
   "display_name": "Python 3 (ipykernel)",
   "language": "python",
   "name": "python3"
  },
  "language_info": {
   "codemirror_mode": {
    "name": "ipython",
    "version": 3
   },
   "file_extension": ".py",
   "mimetype": "text/x-python",
   "name": "python",
   "nbconvert_exporter": "python",
   "pygments_lexer": "ipython3",
   "version": "3.8.15"
  }
 },
 "nbformat": 4,
 "nbformat_minor": 5
}
